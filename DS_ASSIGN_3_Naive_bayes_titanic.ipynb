{
 "cells": [
  {
   "cell_type": "markdown",
   "metadata": {},
   "source": [
    "## Naive Bayes Classification\n",
    "### Titanic data set\n",
    "### Train dataset and test dataset\n",
    "## Classes\n",
    "### 1. Survived  = 0  \n",
    "### 2. Survived  =1"
   ]
  },
  {
   "cell_type": "markdown",
   "metadata": {},
   "source": [
    "## Q.1) Import necessary modules"
   ]
  },
  {
   "cell_type": "code",
   "execution_count": 6,
   "metadata": {},
   "outputs": [],
   "source": [
    "# importing required libraries\n",
    "import pandas as pd\n",
    "from sklearn.naive_bayes import GaussianNB\n",
    "from sklearn.metrics import accuracy_score"
   ]
  },
  {
   "cell_type": "markdown",
   "metadata": {},
   "source": [
    "## Q.2 Load train and test datasets"
   ]
  },
  {
   "cell_type": "code",
   "execution_count": 14,
   "metadata": {},
   "outputs": [],
   "source": [
    "# read the train and test dataset\n",
    "train_data = pd.read_csv(r\"C:\\Users\\admin\\Desktop\\Data Science and Visualization\\datasets\\train-data.csv\")\n",
    "test_data = pd.read_csv(r\"C:\\Users\\admin\\Desktop\\Data Science and Visualization\\datasets\\test-data.csv\")"
   ]
  },
  {
   "cell_type": "code",
   "execution_count": 15,
   "metadata": {},
   "outputs": [
    {
     "name": "stdout",
     "output_type": "stream",
     "text": [
      "Shape of training data : (712, 25)\n",
      "Shape of testing data : (179, 25)\n"
     ]
    }
   ],
   "source": [
    "# shape of the dataset\n",
    "print('Shape of training data :',train_data.shape)\n",
    "print('Shape of testing data :',test_data.shape)\n"
   ]
  },
  {
   "cell_type": "markdown",
   "metadata": {},
   "source": [
    "## Q.3 Seperate the independent and target variable on training and testing data"
   ]
  },
  {
   "cell_type": "code",
   "execution_count": 27,
   "metadata": {},
   "outputs": [],
   "source": [
    "# Now, we need to predict the missing target variable in the test data\n",
    "# target variable - Survived\n",
    "# seperate the independent and target variable on training data\n",
    "train_x = train_data.drop(columns = ['Survived'],axis = 1)\n",
    "train_y = train_data['Survived']"
   ]
  },
  {
   "cell_type": "code",
   "execution_count": 28,
   "metadata": {},
   "outputs": [
    {
     "name": "stdout",
     "output_type": "stream",
     "text": [
      "0      0\n",
      "1      0\n",
      "2      0\n",
      "3      1\n",
      "4      1\n",
      "      ..\n",
      "174    0\n",
      "175    0\n",
      "176    0\n",
      "177    0\n",
      "178    0\n",
      "Name: Survived, Length: 179, dtype: int64\n",
      "\n",
      "\n",
      "\n",
      "            Age      Fare  Pclass_1  Pclass_2  Pclass_3  Sex_female  Sex_male  \\\n",
      "0    35.000000    7.1250         0         0         1           0         1   \n",
      "1    20.000000    7.0500         0         0         1           0         1   \n",
      "2    26.000000    7.8958         0         0         1           0         1   \n",
      "3    58.000000  146.5208         1         0         0           1         0   \n",
      "4    35.000000   83.4750         1         0         0           1         0   \n",
      "..         ...       ...       ...       ...       ...         ...       ...   \n",
      "174  65.000000   26.5500         1         0         0           0         1   \n",
      "175  19.000000   13.0000         0         1         0           0         1   \n",
      "176  44.000000    8.0500         0         0         1           0         1   \n",
      "177  59.000000    7.2500         0         0         1           0         1   \n",
      "178  29.699118   39.6000         1         0         0           0         1   \n",
      "\n",
      "     SibSp_0  SibSp_1  SibSp_2  ...  Parch_0  Parch_1  Parch_2  Parch_3  \\\n",
      "0          1        0        0  ...        1        0        0        0   \n",
      "1          1        0        0  ...        1        0        0        0   \n",
      "2          1        0        0  ...        1        0        0        0   \n",
      "3          1        0        0  ...        1        0        0        0   \n",
      "4          0        1        0  ...        1        0        0        0   \n",
      "..       ...      ...      ...  ...      ...      ...      ...      ...   \n",
      "174        1        0        0  ...        1        0        0        0   \n",
      "175        1        0        0  ...        1        0        0        0   \n",
      "176        1        0        0  ...        1        0        0        0   \n",
      "177        1        0        0  ...        1        0        0        0   \n",
      "178        1        0        0  ...        1        0        0        0   \n",
      "\n",
      "     Parch_4  Parch_5  Parch_6  Embarked_C  Embarked_Q  Embarked_S  \n",
      "0          0        0        0           0           0           1  \n",
      "1          0        0        0           0           0           1  \n",
      "2          0        0        0           0           0           1  \n",
      "3          0        0        0           1           0           0  \n",
      "4          0        0        0           0           0           1  \n",
      "..       ...      ...      ...         ...         ...         ...  \n",
      "174        0        0        0           0           0           1  \n",
      "175        0        0        0           0           0           1  \n",
      "176        0        0        0           0           0           1  \n",
      "177        0        0        0           0           0           1  \n",
      "178        0        0        0           1           0           0  \n",
      "\n",
      "[179 rows x 24 columns]\n"
     ]
    }
   ],
   "source": [
    "# seperate the independent and target variable on testing data\n",
    "test_x = test_data.drop(columns=['Survived'],axis=1)\n",
    "test_y = test_data['Survived']\n",
    "print(test_y)\n",
    "print(\"\\n\\n\\n\",test_x)"
   ]
  },
  {
   "cell_type": "markdown",
   "metadata": {},
   "source": [
    "## Q.4 Create GaussianNB() model, fit train data and test it on test data"
   ]
  },
  {
   "cell_type": "code",
   "execution_count": 31,
   "metadata": {},
   "outputs": [],
   "source": [
    "#Create the object of the Naive Bayes model\n",
    "#You can also add other parameters and test your code here\n",
    "#Some parameters are : var_smoothing\n",
    "model = GaussianNB()\n",
    "# fit the model with the training data\n",
    "model.fit(train_x, train_y)\n",
    "# predict the target on the train dataset\n",
    "predict_train = model.predict(train_x) \n",
    "#print('Target on train data',predict_train) "
   ]
  },
  {
   "cell_type": "markdown",
   "metadata": {},
   "source": [
    "## Q. 5 Find accuracy score on train and test dataset"
   ]
  },
  {
   "cell_type": "code",
   "execution_count": 32,
   "metadata": {},
   "outputs": [
    {
     "name": "stdout",
     "output_type": "stream",
     "text": [
      "accuracy_score on train dataset :  0.44803370786516855\n"
     ]
    }
   ],
   "source": [
    "# Accuray Score on train dataset\n",
    "accuracy_train = accuracy_score(train_y,predict_train)\n",
    "print('accuracy_score on train dataset : ', accuracy_train)"
   ]
  },
  {
   "cell_type": "code",
   "execution_count": 33,
   "metadata": {},
   "outputs": [
    {
     "name": "stdout",
     "output_type": "stream",
     "text": [
      "Target on test data [1 1 1 1 1 1 1 1 1 1 1 1 1 1 1 1 0 0 1 1 1 1 1 1 1 1 1 1 1 1 1 1 1 1 1 1 1\n",
      " 0 1 1 1 1 1 0 1 1 1 1 1 1 1 1 1 1 1 1 0 1 1 1 1 1 1 1 1 1 1 1 1 0 1 1 1 1\n",
      " 1 1 1 0 1 1 1 1 1 1 1 1 1 1 1 1 1 1 1 1 1 1 1 1 1 1 1 1 1 1 1 1 1 1 1 1 1\n",
      " 1 1 1 1 1 1 1 1 1 1 0 1 1 0 1 1 1 1 1 1 1 1 1 1 1 1 1 1 1 1 1 1 1 1 1 1 1\n",
      " 1 1 1 1 1 1 1 1 1 1 1 1 1 1 1 1 1 1 1 1 1 1 1 1 1 1 1 1 1 1 1]\n",
      "accuracy_score on test dataset :  0.35195530726256985\n"
     ]
    }
   ],
   "source": [
    "# predict the target on the test dataset\n",
    "predict_test = model.predict(test_x)\n",
    "print('Target on test data',predict_test) \n",
    "# Accuracy Score on test dataset\n",
    "accuracy_test = accuracy_score(test_y , predict_test)\n",
    "print('accuracy_score on test dataset : ', accuracy_test)"
   ]
  },
  {
   "cell_type": "code",
   "execution_count": null,
   "metadata": {},
   "outputs": [],
   "source": []
  },
  {
   "cell_type": "code",
   "execution_count": null,
   "metadata": {},
   "outputs": [],
   "source": []
  }
 ],
 "metadata": {
  "kernelspec": {
   "display_name": "Python 3",
   "language": "python",
   "name": "python3"
  },
  "language_info": {
   "codemirror_mode": {
    "name": "ipython",
    "version": 3
   },
   "file_extension": ".py",
   "mimetype": "text/x-python",
   "name": "python",
   "nbconvert_exporter": "python",
   "pygments_lexer": "ipython3",
   "version": "3.8.3"
  }
 },
 "nbformat": 4,
 "nbformat_minor": 4
}
